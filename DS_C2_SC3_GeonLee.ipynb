{
  "cells": [
    {
      "cell_type": "markdown",
      "metadata": {
        "id": "view-in-github",
        "colab_type": "text"
      },
      "source": [
        "<a href=\"https://colab.research.google.com/github/geonleea01702148/RETO/blob/main/DS_C2_SC3_GeonLee.ipynb\" target=\"_parent\"><img src=\"https://colab.research.google.com/assets/colab-badge.svg\" alt=\"Open In Colab\"/></a>"
      ]
    },
    {
      "cell_type": "markdown",
      "metadata": {
        "id": "Wf5KrEb6vrkR"
      },
      "source": [
        "<div class=\"markdown-google-sans\">\n",
        "  <h1>Colab 시작 페이지</h1>\n",
        "</div>\n",
        "\n",
        "<div class=\"markdown-google-sans\">\n",
        "  <h2>&#40;신규&#41; Gemini API를 사용해 보세요</h2>\n",
        "  <ul>\n",
        "  <li><a href=\"https://makersuite.google.com/app/apikey\">Generate a Gemini API key</a></li>\n",
        "  <li><a href=\"https://colab.research.google.com/github/googlecolab/colabtools/blob/main/notebooks/Talk_to_Gemini_with_Google%27s_Speech_to_Text_API.ipynb?utm_medium=link&utm_campaign=gemini\">Talk to Gemini with the Speech-to-Text API</a></li>\n",
        "  <li><a href=\"https://colab.research.google.com/github/google/generative-ai-docs/blob/main/site/en/tutorials/quickstart_colab.ipynb?utm_medium=link&utm_campaign=gemini\">Gemini API: Quickstart with Python</a></li>\n",
        "  <li><a href=\"https://colab.research.google.com/notebooks/snippets/gemini.ipynb?utm_medium=link&utm_campaign=gemini\">Gemini API code sample</a></li>\n",
        "  <li><a href=\"https://colab.research.google.com/github/googlecolab/colabtools/blob/main/notebooks/Learning_with_Gemini_and_ChatGPT.ipynb?utm_medium=link&utm_campaign=gemini\">Compare Gemini with ChatGPT</a></li>  \n",
        "  <li><a href=\"https://colab.google/notebooks/?utm_medium=link&utm_campaign=gemini\">More notebooks</a></li>\n",
        "  </ul>\n",
        "</div>\n"
      ]
    },
    {
      "cell_type": "markdown",
      "source": [
        "# 새 섹션"
      ],
      "metadata": {
        "id": "pQM2386L1y-G"
      }
    },
    {
      "cell_type": "code",
      "source": [
        "# Importar las bibliotecas necesarias\n",
        "import pandas as pd\n",
        "from google.colab import drive\n",
        "\n",
        "# Montar Google Drive\n",
        "drive.mount('/content/gdrive')\n",
        "\n",
        "# Cargar los datos desde Google Drive\n",
        "train = pd.read_csv(\"/content/gdrive/MyDrive/Train.csv\")\n",
        "train2 = pd.read_csv(\"/content/gdrive/MyDrive/Train2.csv\")\n",
        "test = pd.read_csv(\"/content/gdrive/MyDrive/Test.csv\")\n",
        "test2 = pd.read_csv(\"/content/gdrive/MyDrive/Test2.csv\")\n",
        "\n",
        "# Inspeccionar los datos (opcional para análisis inicial)\n",
        "# print(train.head())\n",
        "# print(train2.head())\n",
        "# print(test.head())\n",
        "# print(test2.head())\n",
        "\n",
        "# Relacionar los datos usando el número de empleado\n",
        "merged_train = train.merge(train2, on=\"Employee_ID\", how=\"outer\")\n",
        "merged_test = test.merge(test2, on=\"Employee_ID\", how=\"outer\")\n",
        "\n",
        "# Concatenar los datos de Train y Test en un solo DataFrame\n",
        "df = pd.concat([merged_train, merged_test], ignore_index=True)\n",
        "\n",
        "# Reemplazar valores nulos en sistemas operativos con \"no registrado\"\n",
        "df[\" Computer_OS\"].fillna(\"no registrado\", inplace=True)\n",
        "df[\" Computer_OS\"].fillna(\"no registrado\", inplace=True)\n",
        "\n",
        "# 1. Porcentaje de sistemas operativos de escritorio\n",
        "desktop_os_percentage = (\n",
        "    df[\" Computer_OS\"].value_counts(normalize=True) * 100\n",
        ").reset_index()\n",
        "desktop_os_percentage.columns = [\" Computer_OS\", \"percentage\"]\n",
        "\n",
        "# 2. Porcentaje de sistemas operativos móviles\n",
        "mobile_os_percentage = (\n",
        "    df[\" Mobile_OS\"].value_counts(normalize=True) * 100\n",
        ").reset_index()\n",
        "mobile_os_percentage.columns = [\" Mobile_OS\", \"percentage\"]\n",
        "\n",
        "# 3. Edad promedio por sistema operativo de escritorio\n",
        "desktop_os_age_avg = df.groupby(\" Computer_OS\")[\"Age\"].mean().reset_index()\n",
        "desktop_os_age_avg.columns = [\" Computer_OS\", \"average_age\"]\n",
        "\n",
        "# 4. Nivel educativo promedio por sistema operativo de escritorio\n",
        "desktop_os_edu_avg = df.groupby(\" Computer_OS\")[\"Education_Level\"].mean().reset_index()\n",
        "desktop_os_edu_avg.columns = [\" Computer_OS\", \"average_education_level\"]\n",
        "\n",
        "# 5. Número total de tickets por sistema operativo de escritorio\n",
        "desktop_os_tickets_total = df.groupby(\" Computer_OS\")[\" Computer_tickets\"].sum().reset_index()\n",
        "desktop_os_tickets_total.columns = [\" Computer_OS\", \"total_tickets\"]\n",
        "\n",
        "# Guardar los resultados en un archivo .xlsx con diferentes hojas de trabajo\n",
        "output_path = \"/content/gdrive/MyDrive/DS_C2_SC3_GeonLee.xlsx\"\n",
        "with pd.ExcelWriter(output_path) as writer:\n",
        "    desktop_os_percentage.to_excel(writer, sheet_name=\"Desktop OS Percentage\", index=False)\n",
        "    mobile_os_percentage.to_excel(writer, sheet_name=\"Mobile OS Percentage\", index=False)\n",
        "    desktop_os_age_avg.to_excel(writer, sheet_name=\"Desktop OS Age Avg\", index=False)\n",
        "    desktop_os_edu_avg.to_excel(writer, sheet_name=\"Desktop OS Edu Avg\", index=False)\n",
        "    desktop_os_tickets_total.to_excel(writer, sheet_name=\"Desktop OS Tickets\", index=False)\n",
        "\n",
        "print(f\"El archivo DS_C2_SC3_GeonLee.xlsx se ha creado en {output_path}.\")\n",
        "\n"
      ],
      "metadata": {
        "id": "YDJz__ZK10bD",
        "outputId": "84c6441e-324b-41b1-bfb6-cf12248f2da9",
        "colab": {
          "base_uri": "https://localhost:8080/"
        }
      },
      "execution_count": null,
      "outputs": [
        {
          "output_type": "stream",
          "name": "stdout",
          "text": [
            "Drive already mounted at /content/gdrive; to attempt to forcibly remount, call drive.mount(\"/content/gdrive\", force_remount=True).\n",
            "El archivo DS_C2_SC3_NOMBRE.xlsx se ha creado en /content/gdrive/MyDrive/DS_C2_SC3_NOMBRE.xlsx.\n"
          ]
        },
        {
          "output_type": "stream",
          "name": "stderr",
          "text": [
            "<ipython-input-7-9e9f81792387>:28: FutureWarning: A value is trying to be set on a copy of a DataFrame or Series through chained assignment using an inplace method.\n",
            "The behavior will change in pandas 3.0. This inplace method will never work because the intermediate object on which we are setting values always behaves as a copy.\n",
            "\n",
            "For example, when doing 'df[col].method(value, inplace=True)', try using 'df.method({col: value}, inplace=True)' or df[col] = df[col].method(value) instead, to perform the operation inplace on the original object.\n",
            "\n",
            "\n",
            "  df[\" Computer_OS\"].fillna(\"no registrado\", inplace=True)\n"
          ]
        }
      ]
    }
  ],
  "metadata": {
    "colab": {
      "toc_visible": true,
      "provenance": [],
      "include_colab_link": true
    },
    "kernelspec": {
      "display_name": "Python 3",
      "name": "python3"
    }
  },
  "nbformat": 4,
  "nbformat_minor": 0
}